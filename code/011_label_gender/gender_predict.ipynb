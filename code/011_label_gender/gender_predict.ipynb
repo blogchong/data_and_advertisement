{
 "cells": [
  {
   "cell_type": "code",
   "execution_count": 63,
   "metadata": {},
   "outputs": [],
   "source": [
    "import warnings\n",
    "warnings.filterwarnings(\"ignore\")\n",
    "import pandas as pd\n",
    "import numpy as np\n",
    "import matplotlib.pyplot as plt"
   ]
  },
  {
   "cell_type": "code",
   "execution_count": 64,
   "metadata": {},
   "outputs": [],
   "source": [
    "data = pd.read_csv('./data/gender-classifier-DFE-791531.csv'\n",
    "                   ,header = 0\n",
    "                   ,error_bad_lines=False\n",
    "                   ,encoding='latin1'\n",
    "                   ,skip_blank_lines=True)"
   ]
  },
  {
   "cell_type": "code",
   "execution_count": 65,
   "metadata": {},
   "outputs": [],
   "source": [
    "# _unit_id(唯一ID): a unique id for user\n",
    "# _golden(黄金标准，2值): whether the user was included in the gold standard for the model; TRUE or FALSE\n",
    "# _unit_state(检测状态，2值): state of the observation; one of finalized (for contributor-judged) or golden (for gold standard observations)\n",
    "# _trusted_judgments(可信的评论数量，连续值): number of trusted judgments (int); always 3 for non-golden, and what may be a unique id for gold standard observations\n",
    "# _last_judgment_at(最后评论时间): date and time of last contributor judgment; blank for gold standard observations\n",
    "# gender(性别): one of male, female, or brand (for non-human profiles)\n",
    "# gender:confidence(性别的可信度，置信区间): a float representing confidence in the provided gender\n",
    "# profile_yn(no代表是资料收集，非预测): \"no\" here seems to mean that the profile was meant to be part of the dataset but was not available when contributors went to judge it\n",
    "# profile_yn:confidence(profile_yn置信取间): confidence in the existence/non-existence of the profile\n",
    "# created(用户创建时间): date and time when the profile was created\n",
    "# description(用户描述): the user's profile description\n",
    "# fav_number(关注人数): number of tweets the user has favorited\n",
    "# gender_gold(性别 黄金？): if the profile is golden, what is the gender?\n",
    "# link_color(十六进制，link颜色): the link color on the profile, as a hex value\n",
    "# name(名称): the user's name\n",
    "# profile_yn_gold(二值): whether the profile y/n value is golden\n",
    "# profileimage（头像）: a link to the profile image\n",
    "# retweet_count(被关注次数): number of times the user has retweeted (or possibly, been retweeted)\n",
    "# sidebar_color(边框颜色): color of the profile sidebar, as a hex value\n",
    "# text(随机抽取的tweets文本): text of a random one of the user's tweets\n",
    "# tweet_coord(如果用户开启了定位，则显示经纬度): if the user has location turned on, the coordinates as a string with the format \"[latitude, longitude]\"\n",
    "# tweet_count(发布的tweet数): number of tweets that the user has posted\n",
    "# tweet_created(随机抽取的tweet创建时间): when the random tweet (in the text column) was created\n",
    "# tweet_id(随机抽取的tweet的id): the tweet id of the random tweet\n",
    "# tweet_location(tweet的定位，没有做规范化处理): location of the tweet; seems to not be particularly normalized\n",
    "# user_timezone(用户的时区): the timezone of the user"
   ]
  },
  {
   "cell_type": "code",
   "execution_count": 66,
   "metadata": {},
   "outputs": [
    {
     "data": {
      "text/html": [
       "<div>\n",
       "<style scoped>\n",
       "    .dataframe tbody tr th:only-of-type {\n",
       "        vertical-align: middle;\n",
       "    }\n",
       "\n",
       "    .dataframe tbody tr th {\n",
       "        vertical-align: top;\n",
       "    }\n",
       "\n",
       "    .dataframe thead th {\n",
       "        text-align: right;\n",
       "    }\n",
       "</style>\n",
       "<table border=\"1\" class=\"dataframe\">\n",
       "  <thead>\n",
       "    <tr style=\"text-align: right;\">\n",
       "      <th></th>\n",
       "      <th>_unit_id</th>\n",
       "      <th>_golden</th>\n",
       "      <th>_unit_state</th>\n",
       "      <th>_trusted_judgments</th>\n",
       "      <th>_last_judgment_at</th>\n",
       "      <th>gender</th>\n",
       "      <th>gender:confidence</th>\n",
       "      <th>profile_yn</th>\n",
       "      <th>profile_yn:confidence</th>\n",
       "      <th>created</th>\n",
       "      <th>...</th>\n",
       "      <th>profileimage</th>\n",
       "      <th>retweet_count</th>\n",
       "      <th>sidebar_color</th>\n",
       "      <th>text</th>\n",
       "      <th>tweet_coord</th>\n",
       "      <th>tweet_count</th>\n",
       "      <th>tweet_created</th>\n",
       "      <th>tweet_id</th>\n",
       "      <th>tweet_location</th>\n",
       "      <th>user_timezone</th>\n",
       "    </tr>\n",
       "  </thead>\n",
       "  <tbody>\n",
       "    <tr>\n",
       "      <th>0</th>\n",
       "      <td>815719226</td>\n",
       "      <td>False</td>\n",
       "      <td>finalized</td>\n",
       "      <td>3</td>\n",
       "      <td>10/26/15 23:24</td>\n",
       "      <td>male</td>\n",
       "      <td>1.0000</td>\n",
       "      <td>yes</td>\n",
       "      <td>1.0</td>\n",
       "      <td>12/5/13 1:48</td>\n",
       "      <td>...</td>\n",
       "      <td>https://pbs.twimg.com/profile_images/414342229...</td>\n",
       "      <td>0</td>\n",
       "      <td>FFFFFF</td>\n",
       "      <td>Robbie E Responds To Critics After Win Against...</td>\n",
       "      <td>NaN</td>\n",
       "      <td>110964</td>\n",
       "      <td>10/26/15 12:40</td>\n",
       "      <td>6.587300e+17</td>\n",
       "      <td>main; @Kan1shk3</td>\n",
       "      <td>Chennai</td>\n",
       "    </tr>\n",
       "    <tr>\n",
       "      <th>1</th>\n",
       "      <td>815719227</td>\n",
       "      <td>False</td>\n",
       "      <td>finalized</td>\n",
       "      <td>3</td>\n",
       "      <td>10/26/15 23:30</td>\n",
       "      <td>male</td>\n",
       "      <td>1.0000</td>\n",
       "      <td>yes</td>\n",
       "      <td>1.0</td>\n",
       "      <td>10/1/12 13:51</td>\n",
       "      <td>...</td>\n",
       "      <td>https://pbs.twimg.com/profile_images/539604221...</td>\n",
       "      <td>0</td>\n",
       "      <td>C0DEED</td>\n",
       "      <td>ÛÏIt felt like they were my friends and I was...</td>\n",
       "      <td>NaN</td>\n",
       "      <td>7471</td>\n",
       "      <td>10/26/15 12:40</td>\n",
       "      <td>6.587300e+17</td>\n",
       "      <td>NaN</td>\n",
       "      <td>Eastern Time (US &amp; Canada)</td>\n",
       "    </tr>\n",
       "    <tr>\n",
       "      <th>2</th>\n",
       "      <td>815719228</td>\n",
       "      <td>False</td>\n",
       "      <td>finalized</td>\n",
       "      <td>3</td>\n",
       "      <td>10/26/15 23:33</td>\n",
       "      <td>male</td>\n",
       "      <td>0.6625</td>\n",
       "      <td>yes</td>\n",
       "      <td>1.0</td>\n",
       "      <td>11/28/14 11:30</td>\n",
       "      <td>...</td>\n",
       "      <td>https://pbs.twimg.com/profile_images/657330418...</td>\n",
       "      <td>1</td>\n",
       "      <td>C0DEED</td>\n",
       "      <td>i absolutely adore when louis starts the songs...</td>\n",
       "      <td>NaN</td>\n",
       "      <td>5617</td>\n",
       "      <td>10/26/15 12:40</td>\n",
       "      <td>6.587300e+17</td>\n",
       "      <td>clcncl</td>\n",
       "      <td>Belgrade</td>\n",
       "    </tr>\n",
       "    <tr>\n",
       "      <th>3</th>\n",
       "      <td>815719229</td>\n",
       "      <td>False</td>\n",
       "      <td>finalized</td>\n",
       "      <td>3</td>\n",
       "      <td>10/26/15 23:10</td>\n",
       "      <td>male</td>\n",
       "      <td>1.0000</td>\n",
       "      <td>yes</td>\n",
       "      <td>1.0</td>\n",
       "      <td>6/11/09 22:39</td>\n",
       "      <td>...</td>\n",
       "      <td>https://pbs.twimg.com/profile_images/259703936...</td>\n",
       "      <td>0</td>\n",
       "      <td>C0DEED</td>\n",
       "      <td>Hi @JordanSpieth - Looking at the url - do you...</td>\n",
       "      <td>NaN</td>\n",
       "      <td>1693</td>\n",
       "      <td>10/26/15 12:40</td>\n",
       "      <td>6.587300e+17</td>\n",
       "      <td>Palo Alto, CA</td>\n",
       "      <td>Pacific Time (US &amp; Canada)</td>\n",
       "    </tr>\n",
       "    <tr>\n",
       "      <th>4</th>\n",
       "      <td>815719230</td>\n",
       "      <td>False</td>\n",
       "      <td>finalized</td>\n",
       "      <td>3</td>\n",
       "      <td>10/27/15 1:15</td>\n",
       "      <td>female</td>\n",
       "      <td>1.0000</td>\n",
       "      <td>yes</td>\n",
       "      <td>1.0</td>\n",
       "      <td>4/16/14 13:23</td>\n",
       "      <td>...</td>\n",
       "      <td>https://pbs.twimg.com/profile_images/564094871...</td>\n",
       "      <td>0</td>\n",
       "      <td>0</td>\n",
       "      <td>Watching Neighbours on Sky+ catching up with t...</td>\n",
       "      <td>NaN</td>\n",
       "      <td>31462</td>\n",
       "      <td>10/26/15 12:40</td>\n",
       "      <td>6.587300e+17</td>\n",
       "      <td>NaN</td>\n",
       "      <td>NaN</td>\n",
       "    </tr>\n",
       "  </tbody>\n",
       "</table>\n",
       "<p>5 rows × 26 columns</p>\n",
       "</div>"
      ],
      "text/plain": [
       "    _unit_id  _golden _unit_state  _trusted_judgments _last_judgment_at  \\\n",
       "0  815719226    False   finalized                   3    10/26/15 23:24   \n",
       "1  815719227    False   finalized                   3    10/26/15 23:30   \n",
       "2  815719228    False   finalized                   3    10/26/15 23:33   \n",
       "3  815719229    False   finalized                   3    10/26/15 23:10   \n",
       "4  815719230    False   finalized                   3     10/27/15 1:15   \n",
       "\n",
       "   gender  gender:confidence profile_yn  profile_yn:confidence  \\\n",
       "0    male             1.0000        yes                    1.0   \n",
       "1    male             1.0000        yes                    1.0   \n",
       "2    male             0.6625        yes                    1.0   \n",
       "3    male             1.0000        yes                    1.0   \n",
       "4  female             1.0000        yes                    1.0   \n",
       "\n",
       "          created             ...              \\\n",
       "0    12/5/13 1:48             ...               \n",
       "1   10/1/12 13:51             ...               \n",
       "2  11/28/14 11:30             ...               \n",
       "3   6/11/09 22:39             ...               \n",
       "4   4/16/14 13:23             ...               \n",
       "\n",
       "                                        profileimage  retweet_count  \\\n",
       "0  https://pbs.twimg.com/profile_images/414342229...              0   \n",
       "1  https://pbs.twimg.com/profile_images/539604221...              0   \n",
       "2  https://pbs.twimg.com/profile_images/657330418...              1   \n",
       "3  https://pbs.twimg.com/profile_images/259703936...              0   \n",
       "4  https://pbs.twimg.com/profile_images/564094871...              0   \n",
       "\n",
       "  sidebar_color                                               text  \\\n",
       "0        FFFFFF  Robbie E Responds To Critics After Win Against...   \n",
       "1        C0DEED  ÛÏIt felt like they were my friends and I was...   \n",
       "2        C0DEED  i absolutely adore when louis starts the songs...   \n",
       "3        C0DEED  Hi @JordanSpieth - Looking at the url - do you...   \n",
       "4             0  Watching Neighbours on Sky+ catching up with t...   \n",
       "\n",
       "  tweet_coord tweet_count   tweet_created      tweet_id   tweet_location  \\\n",
       "0         NaN      110964  10/26/15 12:40  6.587300e+17  main; @Kan1shk3   \n",
       "1         NaN        7471  10/26/15 12:40  6.587300e+17              NaN   \n",
       "2         NaN        5617  10/26/15 12:40  6.587300e+17           clcncl   \n",
       "3         NaN        1693  10/26/15 12:40  6.587300e+17    Palo Alto, CA   \n",
       "4         NaN       31462  10/26/15 12:40  6.587300e+17              NaN   \n",
       "\n",
       "                user_timezone  \n",
       "0                     Chennai  \n",
       "1  Eastern Time (US & Canada)  \n",
       "2                    Belgrade  \n",
       "3  Pacific Time (US & Canada)  \n",
       "4                         NaN  \n",
       "\n",
       "[5 rows x 26 columns]"
      ]
     },
     "execution_count": 66,
     "metadata": {},
     "output_type": "execute_result"
    }
   ],
   "source": [
    "data.head()"
   ]
  },
  {
   "cell_type": "code",
   "execution_count": 67,
   "metadata": {},
   "outputs": [
    {
     "name": "stdout",
     "output_type": "stream",
     "text": [
      "Gender - female: 6700\n",
      "Gender - male: 6194\n",
      "Gender - brand: 5942\n"
     ]
    }
   ],
   "source": [
    "##拿到y值\n",
    "series_female = data['gender'] == 'female'\n",
    "series_male = data['gender'] == 'male'\n",
    "series_brand = data['gender'] == 'brand'\n",
    "\n",
    "df_female = data[series_female]\n",
    "df_male = data[series_male]\n",
    "df_brand = data[series_brand]\n",
    "\n",
    "#三种性别的个数\n",
    "print(f'Gender - female: {df_female[\"gender\"].count()}')\n",
    "print(f'Gender - male: {df_male[\"gender\"].count()}')\n",
    "print(f'Gender - brand: {df_brand[\"gender\"].count()}')\n",
    "\n",
    "#将性别进行人工编码，female=0，male=1， brand=2\n",
    "df_female.gender = 0\n",
    "df_male.gender = 1\n",
    "df_brand.gender = 2\n",
    "\n",
    "#合并y值结果数据,行合并，ignore_index=True，默认columns相同，index纵向相加，若列合并，axis=1,但列数量必须相同\n",
    "df = pd.concat([df_female, df_male, df_brand], ignore_index=True)"
   ]
  },
  {
   "cell_type": "code",
   "execution_count": 70,
   "metadata": {},
   "outputs": [
    {
     "name": "stdout",
     "output_type": "stream",
     "text": [
      "<class 'pandas.core.frame.DataFrame'>\n",
      "RangeIndex: 18836 entries, 0 to 18835\n",
      "Data columns (total 26 columns):\n",
      "_unit_id                 18836 non-null int64\n",
      "_golden                  18836 non-null bool\n",
      "_unit_state              18836 non-null object\n",
      "_trusted_judgments       18836 non-null int64\n",
      "_last_judgment_at        18786 non-null object\n",
      "gender                   18836 non-null int64\n",
      "gender:confidence        18836 non-null float64\n",
      "profile_yn               18836 non-null object\n",
      "profile_yn:confidence    18836 non-null float64\n",
      "created                  18836 non-null object\n",
      "description              15522 non-null object\n",
      "fav_number               18836 non-null int64\n",
      "gender_gold              50 non-null object\n",
      "link_color               18836 non-null object\n",
      "name                     18836 non-null object\n",
      "profile_yn_gold          50 non-null object\n",
      "profileimage             18836 non-null object\n",
      "retweet_count            18836 non-null int64\n",
      "sidebar_color            18836 non-null object\n",
      "text                     18836 non-null object\n",
      "tweet_coord              157 non-null object\n",
      "tweet_count              18836 non-null int64\n",
      "tweet_created            18836 non-null object\n",
      "tweet_id                 18836 non-null float64\n",
      "tweet_location           11995 non-null object\n",
      "user_timezone            11653 non-null object\n",
      "dtypes: bool(1), float64(3), int64(6), object(16)\n",
      "memory usage: 3.6+ MB\n"
     ]
    }
   ],
   "source": [
    "#寻找x的特征，性别判别，先直观圈选\n",
    "# + (_golden) golden标准，二值，估计是一种荣耀徽章之类的？\n",
    "# + (_trusted_judgments) 可信的评论数量，男女品牌 评论数理论上应该不同吧。\n",
    "# + (description) 个人简介，太有用了，但是是text文本，需要加大处理力度了。\n",
    "# + (fav_number) 关注人数，男女品牌关注行为可能不同。\n",
    "# + (gender_gold) 性别 黄金？什么鬼\n",
    "# + (link_color) link颜色，颜色一向跟性别强相关，拿下先。\n",
    "# + (name) 名称，理论上是有差别的。\n",
    "# + (retweet_count) 被关注数？女性 跟品牌 容易被关注？\n",
    "# + (sidebar_color) 头像边框颜色，理论上还是有特征差异的。\n",
    "# + (text) 随机抽取的一条推文，推文理论上能一定程度反应，但量应该多点。\n",
    "# + (tweet_coord) 开启定位，如果开启则显示经纬度，可以考虑做成二值特征。\n",
    "# + (tweet_count) 推文数量，不同性别这个指标活跃度不同？\n",
    "df.info()"
   ]
  },
  {
   "cell_type": "code",
   "execution_count": 71,
   "metadata": {},
   "outputs": [],
   "source": [
    "##由于特征中包含了文本属性，文本的特征性，且信息区分度可能更高，进行优先处理\n",
    "from sklearn.feature_extraction.text import CountVectorizer\n",
    "from sklearn.feature_extraction.text import TfidfVectorizer\n",
    "from sklearn.metrics import accuracy_score,confusion_matrix\n",
    "from sklearn import preprocessing\n",
    "\n",
    "##文本预处理函数,符号移除，大小写转换\n",
    "import re\n",
    "from sklearn.model_selection import train_test_split"
   ]
  },
  {
   "cell_type": "code",
   "execution_count": 72,
   "metadata": {},
   "outputs": [],
   "source": [
    "def normalize_text(s, type):\n",
    "    s = str(s)\n",
    "    s = s.lower()\n",
    "    s = re.sub('\\s\\W', ' ', s)\n",
    "    s = re.sub('\\W\\s', ' ', s)\n",
    "    s = re.sub('\\s+', ' ', s)\n",
    "    s = re.sub('[^a-zA-Z]',' ', s)\n",
    "    if (type == 'name'):\n",
    "        s = re.sub('_', ' ', s)\n",
    "    return s.strip()\n",
    "\n",
    "df['description_norm'] = [normalize_text(s,'description') for s in df['description']]\n",
    "df['name_norm'] = [normalize_text(s,'name') for s in df['name']]\n",
    "df['text_norm'] = [normalize_text(s,'text') for s in df['text']]\n",
    "\n",
    "y = df['gender']\n",
    "df['description'] = df['description'].fillna(\" \")"
   ]
  },
  {
   "cell_type": "code",
   "execution_count": 73,
   "metadata": {},
   "outputs": [],
   "source": [
    "def print_score(y_t, y_p, confusion):\n",
    "    text_accuracy = accuracy_score(y_t, y_p)\n",
    "\n",
    "    text_0_recall  = confusion[0,0]/(confusion[0,0]+confusion[0,1]+confusion[0,2])\n",
    "    text_0_precision = confusion[0,0]/(confusion[0,0]+confusion[1,0]+confusion[2,0])\n",
    "    text_1_recall  = confusion[1,1]/(confusion[1,0]+confusion[1,1]+confusion[1,2])\n",
    "    text_1_precision = confusion[1,1]/(confusion[0,1]+confusion[1,1]+confusion[2,1])\n",
    "    text_2_recall  = confusion[2,2]/(confusion[2,0]+confusion[2,1]+confusion[2,2])\n",
    "    text_2_precision = confusion[2,2]/(confusion[0,2]+confusion[1,2]+confusion[2,2])\n",
    "\n",
    "    text_avg_precision = (text_0_precision+text_1_precision+text_2_precision)/3\n",
    "    text_avg_recall = (text_0_recall+text_1_recall+text_2_recall)/3\n",
    "\n",
    "    print(f'0-precision: {text_0_precision}')\n",
    "    print(f'0-recall: {text_0_recall}')\n",
    "\n",
    "    print(f'1-precision: {text_1_precision}')\n",
    "    print(f'1-recall: {text_1_recall}')\n",
    "\n",
    "    print(f'2-precision: {text_2_precision}')\n",
    "    print(f'2-recall: {text_2_recall}')\n",
    "\n",
    "    print(f'avg-precison: {text_avg_precision}')\n",
    "    print(f'avg-recall: {text_avg_recall}')\n",
    "    print(f'accuracy: {text_accuracy}')"
   ]
  },
  {
   "cell_type": "code",
   "execution_count": 74,
   "metadata": {},
   "outputs": [
    {
     "name": "stdout",
     "output_type": "stream",
     "text": [
      "confusion_matrix: \n",
      "[[2015  189  104]\n",
      " [1271  720  209]\n",
      " [ 567  193 1325]]\n",
      "0-precision: 0.5229691149753439\n",
      "0-recall: 0.8730502599653379\n",
      "1-precision: 0.6533575317604355\n",
      "1-recall: 0.32727272727272727\n",
      "2-precision: 0.8089133089133089\n",
      "2-recall: 0.6354916067146283\n",
      "avg-precison: 0.6617466518830295\n",
      "avg-recall: 0.6119381979842312\n",
      "accuracy: 0.6158046412862126\n"
     ]
    },
    {
     "data": {
      "text/plain": [
       "(12243, 66195)"
      ]
     },
     "execution_count": 74,
     "metadata": {},
     "output_type": "execute_result"
    }
   ],
   "source": [
    "###使用文本进行模型训练\n",
    "from sklearn.naive_bayes import MultinomialNB,BernoulliNB\n",
    "\n",
    "c_vec_s = CountVectorizer(analyzer='word',stop_words='english')\n",
    "df_text = pd.concat([df['description_norm'], df['name_norm'] , df['text_norm']], axis=1)\n",
    "# 要做类型转换\n",
    "\n",
    "x_text_count = c_vec_s.fit_transform((df['text']+df['description']).tolist()) \n",
    "# x_text_count = c_vec_s.fit_transform((df['text_norm']+df['description_norm']).tolist()) \n",
    "x_train, x_test, y_train, y_test = train_test_split(x_text_count, y, test_size = 0.35)\n",
    "\n",
    "#贝叶斯\n",
    "nb = BernoulliNB()\n",
    "nb.fit(x_train, y_train)\n",
    "\n",
    "y_predict = nb.predict(x_test)\n",
    "text_confusion = confusion_matrix(y_test, y_predict,labels=[0,1,2])\n",
    "print(f'confusion_matrix: \\n{text_confusion}')\n",
    "\n",
    "print_score(y_test, y_predict, text_confusion)\n",
    "\n",
    "x_train.shape"
   ]
  },
  {
   "cell_type": "code",
   "execution_count": 75,
   "metadata": {},
   "outputs": [],
   "source": [
    "###试图优化text维度的模型，从以下几个方面优化\n",
    "#+ 特征处理，弃用countvector，采用tfidf\n",
    "#+ 贝叶斯的参数\n",
    "#+ 更换模型"
   ]
  },
  {
   "cell_type": "code",
   "execution_count": 83,
   "metadata": {},
   "outputs": [
    {
     "name": "stdout",
     "output_type": "stream",
     "text": [
      "confusion_matrix: \n",
      "[[2000  230   86]\n",
      " [1252  737  195]\n",
      " [ 567  208 1318]]\n",
      "0-precision: 0.5236973029588897\n",
      "0-recall: 0.8635578583765112\n",
      "1-precision: 0.6272340425531915\n",
      "1-recall: 0.3374542124542125\n",
      "2-precision: 0.8242651657285803\n",
      "2-recall: 0.6297181079789775\n",
      "avg-precison: 0.6583988370802204\n",
      "avg-recall: 0.610243392936567\n",
      "accuracy: 0.6150462611861065\n"
     ]
    }
   ],
   "source": [
    "#使用tfidf\n",
    "t_vec_s = TfidfVectorizer(analyzer='word',stop_words='english')\n",
    "# text_t_x = t_vec_s.fit_transform((df['text_norm']+df['description_norm']).tolist()) \n",
    "x_text_tfidf = t_vec_s.fit_transform((df['text']+df['description']).tolist()) \n",
    "\n",
    "x_train, x_test, y_train, y_test = train_test_split(x_text_tfidf, y, test_size = 0.35)\n",
    "\n",
    "#贝叶斯\n",
    "nb_t = BernoulliNB()\n",
    "nb_t.fit(x_train, y_train)\n",
    "y_predict = nb_t.predict(x_test)\n",
    "text_confusion = confusion_matrix(y_test, y_predict,labels=[0,1,2])\n",
    "print(f'confusion_matrix: \\n{text_confusion}')\n",
    "print_score(y_test,y_predict,text_confusion)"
   ]
  },
  {
   "cell_type": "code",
   "execution_count": 84,
   "metadata": {},
   "outputs": [
    {
     "name": "stdout",
     "output_type": "stream",
     "text": [
      "(12243, 66195)\n",
      "confusion_matrix: \n",
      "[[1653  529  171]\n",
      " [ 796 1092  272]\n",
      " [ 319  338 1423]]\n",
      "0-precision: 0.5971820809248555\n",
      "0-recall: 0.7025074373140672\n",
      "1-precision: 0.557427258805513\n",
      "1-recall: 0.5055555555555555\n",
      "2-precision: 0.762593783494105\n",
      "2-recall: 0.6841346153846154\n",
      "avg-precison: 0.6390677077414911\n",
      "avg-recall: 0.630732536084746\n",
      "accuracy: 0.632185651448506\n",
      "confusion_matrix: \n",
      "[[2353    0    0]\n",
      " [2160    0    0]\n",
      " [2080    0    0]]\n",
      "0-precision: 0.3568936751099651\n",
      "0-recall: 1.0\n",
      "1-precision: nan\n",
      "1-recall: 0.0\n",
      "2-precision: nan\n",
      "2-recall: 0.0\n",
      "avg-precison: nan\n",
      "avg-recall: 0.3333333333333333\n",
      "accuracy: 0.3568936751099651\n"
     ]
    }
   ],
   "source": [
    "#更换count的NB算法\n",
    "from sklearn.naive_bayes import BernoulliNB\n",
    "from sklearn.linear_model import LogisticRegressionCV\n",
    "from sklearn.svm import SVC\n",
    "\n",
    "x_train, x_test, y_train, y_test = train_test_split(x_text_count, y, test_size = 0.35)\n",
    "\n",
    "print(x_train.shape)\n",
    "#贝叶斯\n",
    "model = LogisticRegressionCV()\n",
    "model.fit(x_train, y_train)\n",
    "\n",
    "y_predict = model.predict(x_test)\n",
    "text_confusion = confusion_matrix(y_test, y_predict,labels=[0,1,2])\n",
    "print(f'confusion_matrix: \\n{text_confusion}')\n",
    "\n",
    "print_score(y_test, y_predict, text_confusion)\n",
    "\n",
    "#SVM\n",
    "model = SVC()\n",
    "model.fit(x_train, y_train)\n",
    "\n",
    "y_predict = model.predict(x_test)\n",
    "text_confusion = confusion_matrix(y_test, y_predict,labels=[0,1,2])\n",
    "print(f'confusion_matrix: \\n{text_confusion}')\n",
    "\n",
    "print_score(y_test, y_predict, text_confusion)"
   ]
  },
  {
   "cell_type": "code",
   "execution_count": 85,
   "metadata": {},
   "outputs": [],
   "source": [
    "##count和tfidf对比来看\n",
    "# + tfidf的对应recall稍微差点，precision好点\n",
    "# + 整体差异不明显，但对于female类型 较显著\n",
    "# + 从整体的角度看，male的precision和recall都比较差，female和brand效果勉强"
   ]
  },
  {
   "cell_type": "code",
   "execution_count": 86,
   "metadata": {},
   "outputs": [],
   "source": [
    "#特征与y的分布，构建一个散点分布函数\n",
    "\n",
    "def drawScatter(x, y, xLabel):\n",
    "    plt.figure(figsize=(10,5))\n",
    "    plt.scatter(x, y)\n",
    "    plt.title('%s VS Gender' %xLabel)\n",
    "    plt.xlabel(xLabel)\n",
    "    plt.ylabel('Gender')\n",
    "    plt.yticks(range(0, 2, 1)) # 纵轴起点，最大值，间隔, 对应的就是gender\n",
    "    plt.grid()\n",
    "    plt.show()"
   ]
  },
  {
   "cell_type": "code",
   "execution_count": 87,
   "metadata": {},
   "outputs": [
    {
     "data": {
      "image/png": "[encoded data removed]",
      "text/plain": [
       "<Figure size 720x360 with 1 Axes>"
      ]
     },
     "metadata": {},
     "output_type": "display_data"
    },
    {
     "name": "stdout",
     "output_type": "stream",
     "text": [
      "0 - (all:0_rate:1_rate:) => 6700 : 99.77611940298507 : 0.22388059701492538\n",
      "1 - (all:1_rate:1_rate:) => 6194 : 99.66096222150468 : 0.3390377784953181\n",
      "2 - (all:2_rate:1_rate:) => 5942 : 99.76438909458095 : 0.23561090541905083\n"
     ]
    }
   ],
   "source": [
    "# _golden特征探索\n",
    "# from sklearn.feature_selection import LabelEncoder\n",
    "\n",
    "lable_golden = preprocessing.LabelEncoder()\n",
    "lable_golden.fit(['False','True'])\n",
    "_golden_df_tmp = df['_golden']\n",
    "array_golden = lable_golden.transform(_golden_df_tmp)\n",
    "df_golden = pd.DataFrame(array_golden,columns=['_golden'])\n",
    "\n",
    "drawScatter(df_golden, y, '_golden')\n",
    "\n",
    "##貌似分布非常之均匀，0 1 2 对应的golden 01 分布并没有很大区别，继续看细节数据\n",
    "df_golden_check = pd.concat([y, df_golden], axis=1)\n",
    "golden_0 = df_golden_check[df_golden_check[\"gender\"] == 0]._golden.count()\n",
    "golden_0_1 = df_golden_check[df_golden_check[\"gender\"] == 0]._golden.sum()\n",
    "golden_0_0 = golden_0 - golden_0_1\n",
    "\n",
    "golden_1 = df_golden_check[df_golden_check[\"gender\"] == 1]._golden.count()\n",
    "golden_1_1 = df_golden_check[df_golden_check[\"gender\"] == 1]._golden.sum()\n",
    "golden_1_0 = golden_1 - golden_1_1\n",
    "\n",
    "golden_2 = df_golden_check[df_golden_check[\"gender\"] == 2]._golden.count()\n",
    "golden_2_1 = df_golden_check[df_golden_check[\"gender\"] == 2]._golden.sum()\n",
    "golden_2_0 = golden_2 - golden_2_1\n",
    "\n",
    "print(f'0 - (all:0_rate:1_rate:) => {golden_0} : {golden_0_0/golden_0*100} : {golden_0_1/golden_0*100}')\n",
    "print(f'1 - (all:1_rate:1_rate:) => {golden_1} : {golden_1_0/golden_1*100} : {golden_1_1/golden_1*100}')\n",
    "print(f'2 - (all:2_rate:1_rate:) => {golden_2} : {golden_2_0/golden_2*100} : {golden_2_1/golden_2*100}')"
   ]
  },
  {
   "cell_type": "code",
   "execution_count": 88,
   "metadata": {},
   "outputs": [
    {
     "data": {
      "image/png": "[encoded data removed]",
      "text/plain": [
       "<Figure size 720x360 with 1 Axes>"
      ]
     },
     "metadata": {},
     "output_type": "display_data"
    }
   ],
   "source": [
    "#从上面golden的分布来看，male=1的 这个golden金牌占比还是大一丢丢的，稍微有点差异，具体要不要加入到特征里，在看\n",
    "\n",
    "# _trusted_judgments 特征,  always 3 for non-golden, 3是non_golden的默认值\n",
    "df_trusted_judgments = df['_trusted_judgments']\n",
    "df_trusted_judgments.describe()\n",
    "drawScatter(df_trusted_judgments, y, '_trusted_judgments')"
   ]
  },
  {
   "cell_type": "code",
   "execution_count": 89,
   "metadata": {},
   "outputs": [
    {
     "data": {
      "image/png": "[encoded data removed]",
      "text/plain": [
       "<Figure size 720x360 with 1 Axes>"
      ]
     },
     "metadata": {},
     "output_type": "display_data"
    },
    {
     "data": {
      "text/plain": [
       "count     18836.000000\n",
       "mean       4413.461563\n",
       "std       12468.532705\n",
       "min           0.000000\n",
       "25%          13.000000\n",
       "50%         482.500000\n",
       "75%        3375.500000\n",
       "max      341621.000000\n",
       "Name: fav_number, dtype: float64"
      ]
     },
     "execution_count": 89,
     "metadata": {},
     "output_type": "execute_result"
    }
   ],
   "source": [
    "#继续探索其他维度的特征\n",
    "drawScatter(df['fav_number'],y,'fav_number')\n",
    "\n",
    "df['fav_number'].describe()"
   ]
  },
  {
   "cell_type": "code",
   "execution_count": 90,
   "metadata": {},
   "outputs": [],
   "source": [
    "#从直观的角度来看分布，0-7000左右，差异不大\n",
    "#从7000以后，female的表现大于male，大于brand，分布还是有差距的\n",
    "#可以作为重点参考特征"
   ]
  },
  {
   "cell_type": "code",
   "execution_count": 91,
   "metadata": {},
   "outputs": [
    {
     "data": {
      "image/png": "[encoded data removed]",
      "text/plain": [
       "<Figure size 720x360 with 1 Axes>"
      ]
     },
     "metadata": {},
     "output_type": "display_data"
    }
   ],
   "source": [
    "#针对类型类的特征，先进行编码，编码之前构建字典\n",
    "dic_link_color = []\n",
    "df_link_color = df['link_color']\n",
    "list_link_color = df_link_color.tolist()\n",
    "\n",
    "#构建link_color字典\n",
    "for i in list_link_color:\n",
    "    if i not in dic_link_color:\n",
    "        dic_link_color.append(i)\n",
    "    \n",
    "label_link_color = preprocessing.LabelEncoder()\n",
    "label_link_color.fit(dic_link_color)\n",
    "\n",
    "df_link_color_id_tmp = label_link_color.transform(df_link_color)\n",
    "df_link_color_id = pd.DataFrame(df_link_color_id_tmp, index=df.index, columns=['link_color_id'])\n",
    "\n",
    "#查看link_color_l分布\n",
    "drawScatter(df_link_color_id,y,'link_color_id')\n",
    "#分布差异不大"
   ]
  },
  {
   "cell_type": "code",
   "execution_count": 92,
   "metadata": {},
   "outputs": [
    {
     "data": {
      "image/png": "[encoded data removed]",
      "text/plain": [
       "<Figure size 720x360 with 1 Axes>"
      ]
     },
     "metadata": {},
     "output_type": "display_data"
    }
   ],
   "source": [
    "#retweet_count被关注次数\n",
    "drawScatter(df['retweet_count'],y,'retweet_count')\n",
    "\n",
    "#brand与female还有male存在一定程度上的分布差异"
   ]
  },
  {
   "cell_type": "code",
   "execution_count": 93,
   "metadata": {},
   "outputs": [
    {
     "data": {
      "image/png": "[encoded data removed]",
      "text/plain": [
       "<Figure size 720x360 with 1 Axes>"
      ]
     },
     "metadata": {},
     "output_type": "display_data"
    }
   ],
   "source": [
    "#sidebar_color特征\n",
    "# from sklearn.feature_selection import LabelEncoder  #引入特征筛选的包\n",
    "\n",
    "#构建link_color字典dic_sidebar_color\n",
    "dic_sidebar_color = []\n",
    "df_sidebar_color = df['sidebar_color']\n",
    "list_sidebar_color = df_sidebar_color.tolist()\n",
    "\n",
    "for i in list_sidebar_color:\n",
    "    if i not in dic_sidebar_color:\n",
    "        dic_sidebar_color.append(i)\n",
    "        \n",
    "#通过字典进行label编码\n",
    "label_sidebar_color = preprocessing.LabelEncoder()\n",
    "label_sidebar_color.fit(dic_sidebar_color)\n",
    "df_sidebar_color_id_tmp = label_sidebar_color.transform(df_sidebar_color)\n",
    "df_sidebar_color_id = pd.DataFrame(df_sidebar_color_id_tmp, index=df.index, columns=['sidebar_color_id'])\n",
    "\n",
    "#调用分布绘制函数\n",
    "drawScatter(df_sidebar_color_id,y,'sidebar_color_id')\n",
    "\n",
    "#边框颜色存在分布密度不同的差异，可以重点观测该属性"
   ]
  },
  {
   "cell_type": "code",
   "execution_count": 94,
   "metadata": {},
   "outputs": [
    {
     "data": {
      "image/png": "[encoded data removed]",
      "text/plain": [
       "<Figure size 720x360 with 1 Axes>"
      ]
     },
     "metadata": {},
     "output_type": "display_data"
    }
   ],
   "source": [
    "#tweet_count发布tweet数量\n",
    "drawScatter(df['tweet_count'],y,'tweet_count')\n",
    "#tweet_count特征，可以重点参考"
   ]
  },
  {
   "cell_type": "code",
   "execution_count": 95,
   "metadata": {},
   "outputs": [
    {
     "data": {
      "image/png": "[encoded data removed]",
      "text/plain": [
       "<Figure size 720x360 with 1 Axes>"
      ]
     },
     "metadata": {},
     "output_type": "display_data"
    }
   ],
   "source": [
    "#tweet_location定位\n",
    "df_tweet_location = df['tweet_location'].fillna('unkonwn')\n",
    "\n",
    "dic_tweet_location = []\n",
    "list_tweet_location = df_tweet_location.tolist()\n",
    "\n",
    "for i in list_tweet_location:\n",
    "    if i not in dic_tweet_location:\n",
    "        dic_tweet_location.append(i)\n",
    "        \n",
    "label_tweet_location = preprocessing.LabelEncoder()\n",
    "label_tweet_location.fit(dic_tweet_location)\n",
    "\n",
    "df_tweet_location_id_tmp = label_tweet_location.transform(df_tweet_location)\n",
    "df_tweet_location_id = pd.DataFrame(df_tweet_location_id_tmp, index=df.index, columns=['tweet_location_id'])\n",
    "\n",
    "df_tweet_location_id.drop_duplicates('tweet_location_id').count()\n",
    "#总类别个数约为1/3，进一步观测分布\n",
    "\n",
    "drawScatter(df_tweet_location_id,y,'tweet_location_id')\n",
    "\n",
    "#舍去该特征"
   ]
  },
  {
   "cell_type": "code",
   "execution_count": 96,
   "metadata": {},
   "outputs": [],
   "source": [
    "#text与describe已经通过词的方式计算概率，另外部分特征进一步进行模型训练\n",
    "#取特征如下：\n",
    "# _golden 差异性很小，df值：df_golden\n",
    "# _trusted_judgments特征，差异小，除了默认的3，剩余50个非3的值为差异分布，df值：df['_trusted_judgments']\n",
    "# fav_number特征，存在一定程度上的全局差异，df值：df['fav_number']\n",
    "# link_color特征，存在部分分布差异，df值：df_link_color_id\n",
    "# retweet_count，相对显著，df值：df['retweet_count']\n",
    "# sidebar_color, 相对显著，df值: df_sidebar_color_id\n",
    "# tweet_count，相对显著，df值：df['tweet_count']"
   ]
  },
  {
   "cell_type": "code",
   "execution_count": 97,
   "metadata": {},
   "outputs": [
    {
     "name": "stdout",
     "output_type": "stream",
     "text": [
      "Train : Text =>14127 : 4709\n"
     ]
    },
    {
     "data": {
      "text/html": [
       "<div>\n",
       "<style scoped>\n",
       "    .dataframe tbody tr th:only-of-type {\n",
       "        vertical-align: middle;\n",
       "    }\n",
       "\n",
       "    .dataframe tbody tr th {\n",
       "        vertical-align: top;\n",
       "    }\n",
       "\n",
       "    .dataframe thead th {\n",
       "        text-align: right;\n",
       "    }\n",
       "</style>\n",
       "<table border=\"1\" class=\"dataframe\">\n",
       "  <thead>\n",
       "    <tr style=\"text-align: right;\">\n",
       "      <th></th>\n",
       "      <th>count</th>\n",
       "      <th>mean</th>\n",
       "      <th>std</th>\n",
       "      <th>min</th>\n",
       "      <th>25%</th>\n",
       "      <th>50%</th>\n",
       "      <th>75%</th>\n",
       "      <th>max</th>\n",
       "    </tr>\n",
       "  </thead>\n",
       "  <tbody>\n",
       "    <tr>\n",
       "      <th>_trusted_judgments</th>\n",
       "      <td>18836.0</td>\n",
       "      <td>3.655394</td>\n",
       "      <td>12.722085</td>\n",
       "      <td>3.0</td>\n",
       "      <td>3.00</td>\n",
       "      <td>3.0</td>\n",
       "      <td>3.0</td>\n",
       "      <td>274.0</td>\n",
       "    </tr>\n",
       "    <tr>\n",
       "      <th>fav_number</th>\n",
       "      <td>18836.0</td>\n",
       "      <td>4413.461563</td>\n",
       "      <td>12468.532705</td>\n",
       "      <td>0.0</td>\n",
       "      <td>13.00</td>\n",
       "      <td>482.5</td>\n",
       "      <td>3375.5</td>\n",
       "      <td>341621.0</td>\n",
       "    </tr>\n",
       "    <tr>\n",
       "      <th>retweet_count</th>\n",
       "      <td>18836.0</td>\n",
       "      <td>0.082502</td>\n",
       "      <td>2.732317</td>\n",
       "      <td>0.0</td>\n",
       "      <td>0.00</td>\n",
       "      <td>0.0</td>\n",
       "      <td>0.0</td>\n",
       "      <td>330.0</td>\n",
       "    </tr>\n",
       "    <tr>\n",
       "      <th>tweet_count</th>\n",
       "      <td>18836.0</td>\n",
       "      <td>39135.700680</td>\n",
       "      <td>119130.638890</td>\n",
       "      <td>1.0</td>\n",
       "      <td>2399.75</td>\n",
       "      <td>11312.5</td>\n",
       "      <td>39793.5</td>\n",
       "      <td>2680199.0</td>\n",
       "    </tr>\n",
       "    <tr>\n",
       "      <th>_golden</th>\n",
       "      <td>18836.0</td>\n",
       "      <td>0.002654</td>\n",
       "      <td>0.051455</td>\n",
       "      <td>0.0</td>\n",
       "      <td>0.00</td>\n",
       "      <td>0.0</td>\n",
       "      <td>0.0</td>\n",
       "      <td>1.0</td>\n",
       "    </tr>\n",
       "    <tr>\n",
       "      <th>link_color_id</th>\n",
       "      <td>18836.0</td>\n",
       "      <td>816.489594</td>\n",
       "      <td>937.403143</td>\n",
       "      <td>0.0</td>\n",
       "      <td>76.00</td>\n",
       "      <td>76.0</td>\n",
       "      <td>1732.0</td>\n",
       "      <td>2881.0</td>\n",
       "    </tr>\n",
       "    <tr>\n",
       "      <th>sidebar_color_id</th>\n",
       "      <td>18836.0</td>\n",
       "      <td>312.381822</td>\n",
       "      <td>183.906661</td>\n",
       "      <td>0.0</td>\n",
       "      <td>226.75</td>\n",
       "      <td>352.0</td>\n",
       "      <td>405.0</td>\n",
       "      <td>544.0</td>\n",
       "    </tr>\n",
       "  </tbody>\n",
       "</table>\n",
       "</div>"
      ],
      "text/plain": [
       "                      count          mean            std  min      25%  \\\n",
       "_trusted_judgments  18836.0      3.655394      12.722085  3.0     3.00   \n",
       "fav_number          18836.0   4413.461563   12468.532705  0.0    13.00   \n",
       "retweet_count       18836.0      0.082502       2.732317  0.0     0.00   \n",
       "tweet_count         18836.0  39135.700680  119130.638890  1.0  2399.75   \n",
       "_golden             18836.0      0.002654       0.051455  0.0     0.00   \n",
       "link_color_id       18836.0    816.489594     937.403143  0.0    76.00   \n",
       "sidebar_color_id    18836.0    312.381822     183.906661  0.0   226.75   \n",
       "\n",
       "                        50%      75%        max  \n",
       "_trusted_judgments      3.0      3.0      274.0  \n",
       "fav_number            482.5   3375.5   341621.0  \n",
       "retweet_count           0.0      0.0      330.0  \n",
       "tweet_count         11312.5  39793.5  2680199.0  \n",
       "_golden                 0.0      0.0        1.0  \n",
       "link_color_id          76.0   1732.0     2881.0  \n",
       "sidebar_color_id      352.0    405.0      544.0  "
      ]
     },
     "execution_count": 97,
     "metadata": {},
     "output_type": "execute_result"
    }
   ],
   "source": [
    "#拿到x特征集合\n",
    "df_x = pd.concat([df[['_trusted_judgments','fav_number','retweet_count','tweet_count']]\n",
    "                  ,df_golden\n",
    "                  ,df_link_color_id\n",
    "                  ,df_sidebar_color_id],axis=1)\n",
    "\n",
    "#数据切割\n",
    "x_train, x_test, y_train, y_test = train_test_split(df_x, y, test_size = 0.25)\n",
    "print(f'Train : Text =>{y_train.count()} : {y_test.count()}')\n",
    "\n",
    "df_x.describe().T"
   ]
  },
  {
   "cell_type": "code",
   "execution_count": 98,
   "metadata": {},
   "outputs": [
    {
     "name": "stdout",
     "output_type": "stream",
     "text": [
      "<class 'pandas.core.frame.DataFrame'>\n",
      "RangeIndex: 18836 entries, 0 to 18835\n",
      "Data columns (total 7 columns):\n",
      "_trusted_judgments    18836 non-null int64\n",
      "fav_number            18836 non-null int64\n",
      "retweet_count         18836 non-null int64\n",
      "tweet_count           18836 non-null int64\n",
      "_golden               18836 non-null int64\n",
      "link_color_id         18836 non-null int64\n",
      "sidebar_color_id      18836 non-null int64\n",
      "dtypes: int64(7)\n",
      "memory usage: 1.0 MB\n",
      "[8.64891987e+01 1.13400454e+07 1.88537431e+02 9.95882595e+07\n",
      " 1.89903792e+00 6.14738280e+05 4.28232801e+02]\n",
      "[1.65618612e-19 0.00000000e+00 1.14714140e-41 0.00000000e+00\n",
      " 3.86927106e-01 0.00000000e+00 1.02430383e-93]\n",
      "tweet_count - y (pearsonr):(0.11123466734351128, 6.275174261723037e-53)\n",
      "retweet_count - y (pearsonr):(0.010437521513536177, 0.15201955024839234)\n"
     ]
    }
   ],
   "source": [
    "from sklearn.feature_selection import SelectKBest\n",
    "from sklearn.feature_selection import chi2\n",
    "from scipy.stats import pearsonr\n",
    "\n",
    "model_f = SelectKBest(chi2, k=3)\n",
    "model_f.fit_transform(df_x, y)\n",
    "\n",
    "df_x.info()\n",
    "\n",
    "print(model_f.scores_)\n",
    "print(model_f.pvalues_)\n",
    "print(f\"tweet_count - y (pearsonr):{pearsonr(df_x['tweet_count'],y)}\")\n",
    "print(f\"retweet_count - y (pearsonr):{pearsonr(df_x['retweet_count'],y)}\")"
   ]
  },
  {
   "cell_type": "code",
   "execution_count": 99,
   "metadata": {},
   "outputs": [
    {
     "name": "stdout",
     "output_type": "stream",
     "text": [
      "confusion_matrix: \n",
      "[[876 582 216]\n",
      " [480 805 237]\n",
      " [226 368 919]]\n",
      "0-precision: 0.5537294563843237\n",
      "0-recall: 0.5232974910394266\n",
      "1-precision: 0.4586894586894587\n",
      "1-recall: 0.5289093298291722\n",
      "2-precision: 0.6698250728862973\n",
      "2-recall: 0.6074025115664243\n",
      "avg-precison: 0.5607479959866932\n",
      "avg-recall: 0.5532031108116744\n",
      "accuracy: 0.552134211085156\n"
     ]
    }
   ],
   "source": [
    "#使用万能的xgboost算法，conda安装xgboost：conda install -c  anaconda py-xgboost\n",
    "from xgboost import XGBClassifier\n",
    "\n",
    "xgb = XGBClassifier()\n",
    "\n",
    "xgb.fit(x_train,y_train)\n",
    "\n",
    "y_predict = xgb.predict(x_test)\n",
    "\n",
    "other_confusion = confusion_matrix(y_test, y_predict,labels=[0,1,2])\n",
    "print(f'confusion_matrix: \\n{other_confusion}')\n",
    "\n",
    "#打印各个类别的precision和recall\n",
    "print_score(y_test, y_predict, other_confusion)\n",
    "\n",
    "#效果太差，整体结果比乱猜稍微好点，比text的结果差"
   ]
  },
  {
   "cell_type": "code",
   "execution_count": 100,
   "metadata": {},
   "outputs": [
    {
     "name": "stdout",
     "output_type": "stream",
     "text": [
      "confusion_matrix: \n",
      "[[1151  145  378]\n",
      " [ 941  175  406]\n",
      " [ 558   64  891]]\n",
      "0-precision: 0.43433962264150944\n",
      "0-recall: 0.6875746714456392\n",
      "1-precision: 0.4557291666666667\n",
      "1-recall: 0.11498028909329829\n",
      "2-precision: 0.5319402985074627\n",
      "2-recall: 0.5888962326503635\n",
      "avg-precison: 0.4740030292718796\n",
      "avg-recall: 0.46381706439643366\n",
      "accuracy: 0.4708005946060735\n"
     ]
    }
   ],
   "source": [
    "#尝试更换算法模型\n",
    "other_nb = MultinomialNB()\n",
    "other_nb.fit(x_train, y_train)\n",
    "y_predict = other_nb.predict(x_test)\n",
    "\n",
    "other_confusion = confusion_matrix(y_test, y_predict,labels=[0,1,2])\n",
    "print(f'confusion_matrix: \\n{other_confusion}')\n",
    "\n",
    "print_score(y_test,y_predict, other_confusion)\n",
    "\n",
    "#多项式分布的NB，对于male类型的分类简直是灾难"
   ]
  },
  {
   "cell_type": "code",
   "execution_count": 101,
   "metadata": {},
   "outputs": [
    {
     "name": "stdout",
     "output_type": "stream",
     "text": [
      "confusion_matrix: \n",
      "[[1561   80   33]\n",
      " [1407   81   34]\n",
      " [1178  241   94]]\n",
      "0-precision: 0.3765074770863483\n",
      "0-recall: 0.9324970131421745\n",
      "1-precision: 0.20149253731343283\n",
      "1-recall: 0.053219448094612355\n",
      "2-precision: 0.5838509316770186\n",
      "2-recall: 0.06212822207534699\n",
      "avg-precison: 0.3872836486922666\n",
      "avg-recall: 0.34928156110404457\n",
      "accuracy: 0.3686557655553196\n"
     ]
    }
   ],
   "source": [
    "#更换NB的分布\n",
    "#尝试更换算法模型,先更改朴素贝叶斯的分布\n",
    "from sklearn.naive_bayes import GaussianNB\n",
    "\n",
    "other_nb = GaussianNB()\n",
    "other_nb.fit(x_train, y_train)\n",
    "y_predict = other_nb.predict(x_test)\n",
    "\n",
    "other_confusion = confusion_matrix(y_test, y_predict,labels=[0,1,2])\n",
    "print(f'confusion_matrix: \\n{other_confusion}')\n",
    "\n",
    "print_score(y_test,y_predict, other_confusion)\n",
    "\n",
    "#整体的结果预测，都偏向于female，整体结果太差"
   ]
  },
  {
   "cell_type": "code",
   "execution_count": 102,
   "metadata": {},
   "outputs": [
    {
     "name": "stdout",
     "output_type": "stream",
     "text": [
      "confusion_matrix: \n",
      "[[1531   48   95]\n",
      " [1387   62   73]\n",
      " [ 898   38  577]]\n",
      "0-precision: 0.40120545073375263\n",
      "0-recall: 0.9145758661887694\n",
      "1-precision: 0.4189189189189189\n",
      "1-recall: 0.040735873850197106\n",
      "2-precision: 0.774496644295302\n",
      "2-recall: 0.3813615333773959\n",
      "avg-precison: 0.5315403379826579\n",
      "avg-recall: 0.44555775780545415\n",
      "accuracy: 0.4608197069441495\n"
     ]
    }
   ],
   "source": [
    "#更换NB的分布\n",
    "#尝试更换算法模型,先更改朴素贝叶斯的分布\n",
    "from sklearn.naive_bayes import BernoulliNB\n",
    "\n",
    "other_nb = BernoulliNB()\n",
    "other_nb.fit(x_train, y_train)\n",
    "y_predict = other_nb.predict(x_test)\n",
    "\n",
    "other_confusion = confusion_matrix(y_test, y_predict,labels=[0,1,2])\n",
    "print(f'confusion_matrix: \\n{other_confusion}')\n",
    "\n",
    "print_score(y_test,y_predict, other_confusion)\n",
    "\n",
    "#整体的结果预测，都偏向于female，整体结果太差, male类型几乎无法识别"
   ]
  },
  {
   "cell_type": "code",
   "execution_count": 103,
   "metadata": {},
   "outputs": [
    {
     "name": "stdout",
     "output_type": "stream",
     "text": [
      "confusion_matrix: \n",
      "[[1612   29   33]\n",
      " [1400   86   36]\n",
      " [1133   37  343]]\n",
      "0-precision: 0.3889022919179735\n",
      "0-recall: 0.9629629629629629\n",
      "1-precision: 0.5657894736842105\n",
      "1-recall: 0.056504599211563734\n",
      "2-precision: 0.8325242718446602\n",
      "2-recall: 0.2267019167217449\n",
      "avg-precison: 0.5957386791489481\n",
      "avg-recall: 0.4153898262987572\n",
      "accuracy: 0.43342535570184754\n"
     ]
    }
   ],
   "source": [
    "#使用SVM\n",
    "from sklearn.svm import SVC\n",
    "\n",
    "other_svc = SVC()\n",
    "other_svc.fit(x_train, y_train)\n",
    "y_predict = other_svc.predict(x_test)\n",
    "\n",
    "other_confusion = confusion_matrix(y_test, y_predict,labels=[0,1,2])\n",
    "print(f'confusion_matrix: \\n{other_confusion}')\n",
    "\n",
    "print_score(y_test,y_predict, other_confusion)\n",
    "\n",
    "#SVM的训练时间相对较长，整体结果偏向于female，识别度不高"
   ]
  },
  {
   "cell_type": "code",
   "execution_count": 104,
   "metadata": {},
   "outputs": [
    {
     "name": "stdout",
     "output_type": "stream",
     "text": [
      "confusion_matrix: \n",
      "[[979 340 355]\n",
      " [693 349 480]\n",
      " [477 112 924]]\n",
      "0-precision: 0.45556072591903213\n",
      "0-recall: 0.5848267622461171\n",
      "1-precision: 0.43570536828963796\n",
      "1-recall: 0.22930354796320632\n",
      "2-precision: 0.5252984650369528\n",
      "2-recall: 0.6107072042300066\n",
      "avg-precison: 0.4721881864152076\n",
      "avg-recall: 0.4749458381464433\n",
      "accuracy: 0.4782331705245275\n"
     ]
    }
   ],
   "source": [
    "#使用LR\n",
    "from sklearn.linear_model  import LogisticRegressionCV\n",
    "\n",
    "other_lr = LogisticRegressionCV()\n",
    "other_lr.fit(x_train, y_train)\n",
    "y_predict = other_lr.predict(x_test)\n",
    "\n",
    "other_confusion = confusion_matrix(y_test, y_predict,labels=[0,1,2])\n",
    "print(f'confusion_matrix: \\n{other_confusion}')\n",
    "\n",
    "print_score(y_test,y_predict, other_confusion)\n",
    "\n",
    "#LRCV的结果，整体结果一般，male误判为female较多"
   ]
  },
  {
   "cell_type": "code",
   "execution_count": 105,
   "metadata": {},
   "outputs": [
    {
     "name": "stdout",
     "output_type": "stream",
     "text": [
      "confusion_matrix: \n",
      "[[935 491 248]\n",
      " [599 678 245]\n",
      " [325 336 852]]\n",
      "0-precision: 0.5029585798816568\n",
      "0-recall: 0.5585424133811231\n",
      "1-precision: 0.4504983388704319\n",
      "1-recall: 0.4454664914586071\n",
      "2-precision: 0.633457249070632\n",
      "2-recall: 0.5631196298744217\n",
      "avg-precison: 0.5289713892742403\n",
      "avg-recall: 0.5223761782380506\n",
      "accuracy: 0.5234657039711191\n"
     ]
    }
   ],
   "source": [
    "#使用RandomForestC\n",
    "from sklearn.ensemble import RandomForestClassifier\n",
    "\n",
    "other_rfc = RandomForestClassifier()\n",
    "other_rfc.fit(x_train, y_train)\n",
    "y_predict = other_rfc.predict(x_test)\n",
    "\n",
    "other_confusion = confusion_matrix(y_test, y_predict,labels=[0,1,2])\n",
    "print(f'confusion_matrix: \\n{other_confusion}')\n",
    "\n",
    "print_score(y_test,y_predict, other_confusion)\n",
    "\n",
    "#整体结果一般，male表现一直较差"
   ]
  },
  {
   "cell_type": "code",
   "execution_count": 106,
   "metadata": {},
   "outputs": [],
   "source": [
    "######开启参数调优之路\n",
    "# + text相关的，说明text特征是有效的，可以更换算法尝试一下\n",
    "# + 通text的角度看,count的特征处理+MultinomialNB的方式是text中的最佳解\n",
    "# + 常规特征中,XGBClassifier和RandomForestClassifier可以进行参数调优"
   ]
  },
  {
   "cell_type": "code",
   "execution_count": 107,
   "metadata": {},
   "outputs": [],
   "source": [
    "###对于text的结果进行参数调优\n",
    "from sklearn.model_selection import GridSearchCV\n",
    "from sklearn.model_selection import StratifiedKFold\n",
    "\n",
    "x_train, x_test, y_train, y_test = train_test_split(x_text_count, y, test_size = 0.35)\n",
    "\n",
    "model = MultinomialNB()\n",
    "\n",
    "alpha = [0.9,2.0]\n",
    "fit_prior = [True]\n",
    "\n",
    "param_grid = dict(alpha = alpha, fit_prior = fit_prior)\n",
    "\n",
    "kfold = StratifiedKFold(n_splits=5, shuffle=True, random_state=7)\n",
    "grid_search = GridSearchCV(model, param_grid, scoring='accuracy', n_jobs = 3, cv = kfold)\n",
    "\n",
    "grid_result = grid_search.fit(x_train, y_train)"
   ]
  },
  {
   "cell_type": "code",
   "execution_count": 108,
   "metadata": {},
   "outputs": [
    {
     "name": "stdout",
     "output_type": "stream",
     "text": [
      "Best: 0.620600 using {'alpha': 2.0, 'fit_prior': True}\n",
      "0.615944  with:   {'alpha': 0.9, 'fit_prior': True}\n",
      "0.620600  with:   {'alpha': 2.0, 'fit_prior': True}\n",
      "confusion_matrix: \n",
      "[[1692  468  214]\n",
      " [ 799 1098  252]\n",
      " [ 321  291 1458]]\n",
      "0-precision: 0.6017069701280228\n",
      "0-recall: 0.7127211457455771\n",
      "1-precision: 0.5912762520193862\n",
      "1-recall: 0.5109353187529083\n",
      "2-precision: 0.7577962577962578\n",
      "2-recall: 0.7043478260869566\n",
      "avg-precison: 0.6502598266478888\n",
      "avg-recall: 0.642668096861814\n",
      "accuracy: 0.6443197330502047\n"
     ]
    }
   ],
   "source": [
    "print(\"Best: %f using %s\" % (grid_result.best_score_,grid_search.best_params_))\n",
    "\n",
    "means = grid_result.cv_results_['mean_test_score']\n",
    "params = grid_result.cv_results_['params']\n",
    "for mean,param in zip(means,params):\n",
    "    print(\"%f  with:   %r\" % (mean,param))\n",
    "    \n",
    "y_predict = grid_search.predict(x_test)\n",
    "\n",
    "other_confusion = confusion_matrix(y_test, y_predict,labels=[0,1,2])\n",
    "print(f'confusion_matrix: \\n{other_confusion}')\n",
    "\n",
    "print_score(y_test,y_predict, other_confusion)"
   ]
  },
  {
   "cell_type": "code",
   "execution_count": 109,
   "metadata": {},
   "outputs": [],
   "source": [
    "###常规算法中,xgboost,RandomForestClassifier进行参数调优\n",
    "#拿到x特征集合\n",
    "# df_x = pd.concat([df[['_trusted_judgments','fav_number','retweet_count','tweet_count']]\n",
    "#                   ,df_golden\n",
    "#                   ,df_link_color_id\n",
    "#                   ,df_sidebar_color_id],axis=1)\n",
    "from xgboost import XGBClassifier\n",
    "###对于text的结果进行参数调优\n",
    "from sklearn.model_selection import GridSearchCV\n",
    "from sklearn.model_selection import StratifiedKFold\n",
    "\n",
    "x_train, x_test, y_train, y_test = train_test_split(df_x, y, test_size = 0.35)\n",
    "\n",
    "model = XGBClassifier()\n",
    "\n",
    "n_estimatores = [50,100]\n",
    "max_depth = [8,12]\n",
    "subsample = [0.75]\n",
    "colsample_bytree = [0.75]\n",
    "learning_rate = [0.1]\n",
    "objective = ['multi：softmax  num_class=3']\n",
    "gamma = [0, 0.2]\n",
    "\n",
    "param_grid = dict(n_estimatores = n_estimatores\n",
    "                  ,max_depth = max_depth\n",
    "                  ,subsample = subsample\n",
    "                  ,colsample_bytree = colsample_bytree\n",
    "                  ,learning_rate = learning_rate\n",
    "                  ,objective = objective\n",
    "                  ,gamma = gamma)\n",
    "\n",
    "kfold = StratifiedKFold(n_splits=5, shuffle=True, random_state=7)\n",
    "grid_search = GridSearchCV(model, param_grid, scoring='accuracy', n_jobs = 3, cv = kfold)\n",
    "\n",
    "grid_result = grid_search.fit(x_train, y_train)"
   ]
  },
  {
   "cell_type": "code",
   "execution_count": 110,
   "metadata": {},
   "outputs": [
    {
     "name": "stdout",
     "output_type": "stream",
     "text": [
      "Best: 0.546516 using {'colsample_bytree': 0.75, 'gamma': 0.2, 'learning_rate': 0.1, 'max_depth': 8, 'n_estimatores': 50, 'objective': 'multi：softmax  num_class=3', 'subsample': 0.75}\n",
      "confusion_matrix: \n",
      "[[1264  808  286]\n",
      " [ 706 1094  337]\n",
      " [ 366  496 1236]]\n",
      "0-precision: 0.541095890410959\n",
      "0-recall: 0.536047497879559\n",
      "1-precision: 0.4562135112593828\n",
      "1-recall: 0.5119326158165652\n",
      "2-precision: 0.664873587950511\n",
      "2-recall: 0.5891325071496664\n",
      "avg-precison: 0.5540609965402843\n",
      "avg-recall: 0.5457042069485968\n",
      "accuracy: 0.5451236159563173\n"
     ]
    }
   ],
   "source": [
    "print(\"Best: %f using %s\" % (grid_result.best_score_,grid_search.best_params_))\n",
    "\n",
    "means = grid_result.cv_results_['mean_test_score']\n",
    "params = grid_result.cv_results_['params']\n",
    "# for mean,param in zip(means,params):\n",
    "#     print(\"%f  with:   %r\" % (mean,param))\n",
    "    \n",
    "y_predict = grid_search.predict(x_test)\n",
    "\n",
    "other_confusion = confusion_matrix(y_test, y_predict,labels=[0,1,2])\n",
    "print(f'confusion_matrix: \\n{other_confusion}')\n",
    "\n",
    "print_score(y_test,y_predict, other_confusion)"
   ]
  },
  {
   "cell_type": "code",
   "execution_count": 111,
   "metadata": {},
   "outputs": [],
   "source": [
    "from sklearn.ensemble import RandomForestClassifier\n",
    "##randomforest参数调优\n",
    "x_train, x_test, y_train, y_test = train_test_split(df_x, y, test_size = 0.35)\n",
    "\n",
    "model = RandomForestClassifier()\n",
    "\n",
    "n_estimators = [200,300]\n",
    "max_depth = [8,12]\n",
    "criterion = ['entropy','gini']\n",
    "\n",
    "param_grid = dict(n_estimators = n_estimators\n",
    "                  ,max_depth = max_depth\n",
    "                  ,criterion = criterion)\n",
    "\n",
    "kfold = StratifiedKFold(n_splits=5, shuffle=True, random_state=7)\n",
    "grid_search = GridSearchCV(model, param_grid, scoring='accuracy', n_jobs = 3, cv = kfold)\n",
    "\n",
    "grid_result = grid_search.fit(x_train, y_train)"
   ]
  },
  {
   "cell_type": "code",
   "execution_count": 112,
   "metadata": {},
   "outputs": [
    {
     "name": "stdout",
     "output_type": "stream",
     "text": [
      "Best: 0.542596 using {'criterion': 'gini', 'max_depth': 12, 'n_estimators': 300}\n",
      "confusion_matrix: \n",
      "[[1312  657  311]\n",
      " [ 766 1087  311]\n",
      " [ 362  539 1248]]\n",
      "0-precision: 0.5377049180327869\n",
      "0-recall: 0.5754385964912281\n",
      "1-precision: 0.47612790188348664\n",
      "1-recall: 0.5023105360443623\n",
      "2-precision: 0.667379679144385\n",
      "2-recall: 0.5807352256863657\n",
      "avg-precison: 0.5604041663535528\n",
      "avg-recall: 0.5528281194073187\n",
      "accuracy: 0.5531624450174427\n"
     ]
    }
   ],
   "source": [
    "print(\"Best: %f using %s\" % (grid_result.best_score_,grid_search.best_params_))\n",
    "\n",
    "means = grid_result.cv_results_['mean_test_score']\n",
    "params = grid_result.cv_results_['params']\n",
    "# for mean,param in zip(means,params):\n",
    "#     print(\"%f  with:   %r\" % (mean,param))\n",
    "    \n",
    "y_predict = grid_search.predict(x_test)\n",
    "\n",
    "other_confusion = confusion_matrix(y_test, y_predict,labels=[0,1,2])\n",
    "print(f'confusion_matrix: \\n{other_confusion}')\n",
    "\n",
    "print_score(y_test,y_predict, other_confusion)"
   ]
  },
  {
   "cell_type": "code",
   "execution_count": null,
   "metadata": {},
   "outputs": [],
   "source": []
  },
  {
   "cell_type": "code",
   "execution_count": null,
   "metadata": {},
   "outputs": [],
   "source": []
  }
 ],
 "metadata": {
  "kernelspec": {
   "display_name": "Python 3",
   "language": "python",
   "name": "python3"
  },
  "language_info": {
   "codemirror_mode": {
    "name": "ipython",
    "version": 3
   },
   "file_extension": ".py",
   "mimetype": "text/x-python",
   "name": "python",
   "nbconvert_exporter": "python",
   "pygments_lexer": "ipython3",
   "version": "3.6.5"
  }
 },
 "nbformat": 4,
 "nbformat_minor": 2
}
