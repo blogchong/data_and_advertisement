{
 "cells": [
  {
   "cell_type": "code",
   "execution_count": 20,
   "metadata": {},
   "outputs": [],
   "source": [
    "##进行xgboost的训练\n",
    "import warnings\n",
    "warnings.filterwarnings('ignore')\n",
    "\n",
    "import gc\n",
    "import csv\n",
    "import time \n",
    "import pandas as pd\n",
    "import numpy as np\n",
    "import matplotlib.pyplot as plt\n",
    "\n",
    "from sklearn.linear_model import LogisticRegression\n",
    "from sklearn.preprocessing import OneHotEncoder,LabelEncoder\n",
    "from xgboost import XGBClassifier\n",
    "from sklearn import metrics\n",
    "\n",
    "from sklearn.externals import joblib"
   ]
  },
  {
   "cell_type": "code",
   "execution_count": 2,
   "metadata": {},
   "outputs": [],
   "source": [
    "file_train = './out_put/encode_data_train.csv'\n",
    "file_vali = './out_put/encode_data_vali.csv'\n",
    "file_test = './out_put/encode_data_test.csv'\n",
    "\n",
    "df_train = pd.read_csv(file_train, index_col = 0)\n",
    "df_vali = pd.read_csv(file_vali, index_col = 0)\n",
    "df_test = pd.read_csv(file_test, index_col = 0)"
   ]
  },
  {
   "cell_type": "code",
   "execution_count": 3,
   "metadata": {},
   "outputs": [],
   "source": [
    "##数据准备\n",
    "y_train = df_train['click']\n",
    "x_train = df_train.iloc[:,1:]\n",
    "\n",
    "y_vali = df_vali['click']\n",
    "x_vali = df_vali.iloc[:,1:]\n",
    "\n",
    "y_test = df_test['click']\n",
    "x_test = df_test.iloc[:,1:]"
   ]
  },
  {
   "cell_type": "code",
   "execution_count": 4,
   "metadata": {},
   "outputs": [
    {
     "name": "stdout",
     "output_type": "stream",
     "text": [
      "Begin Time : 2020-02-01 21:19:03\n",
      "[0]\tvalidation_0-auc:0.663951\n",
      "Will train until validation_0-auc hasn't improved in 10 rounds.\n",
      "[1]\tvalidation_0-auc:0.669895\n",
      "[2]\tvalidation_0-auc:0.670909\n",
      "[3]\tvalidation_0-auc:0.671622\n",
      "[4]\tvalidation_0-auc:0.673234\n",
      "[5]\tvalidation_0-auc:0.675165\n",
      "[6]\tvalidation_0-auc:0.675224\n",
      "[7]\tvalidation_0-auc:0.682689\n",
      "[8]\tvalidation_0-auc:0.684437\n",
      "[9]\tvalidation_0-auc:0.687103\n",
      "End Time : 2020-02-01 21:19:09\n"
     ]
    }
   ],
   "source": [
    "##进行xgboost拟合\n",
    "begin_time = time.time()\n",
    "print(f'Begin Time : {time.strftime(\"%Y-%m-%d %H:%M:%S\", time.localtime(begin_time))}')\n",
    "\n",
    "##受限于机器的资源，这里就不做gridsearch调参了，直接凑合着来(按最小资源消耗来设置参数)\n",
    "model = XGBClassifier(learning_rate=0.1\n",
    "                     ,n_estimators=10\n",
    "                     ,max_depth=3\n",
    "                     ,scale_pos_weight=1\n",
    "                     ,min_child_weight=1\n",
    "                     ,gamma=0\n",
    "                     ,subsample=1\n",
    "                     ,colsample_bylevel=1\n",
    "                     ,objective='binary:logistic'\n",
    "                     ,n_jobs=4\n",
    "                     ,seed=100)\n",
    "\n",
    "eval_set = [(x_vali, y_vali)]\n",
    "model.fit(x_train, y_train, eval_metric=\"auc\" , eval_set=eval_set, early_stopping_rounds=10)\n",
    "\n",
    "end_time = time.time()\n",
    "print(f'End Time : {time.strftime(\"%Y-%m-%d %H:%M:%S\", time.localtime(end_time))}')"
   ]
  },
  {
   "cell_type": "code",
   "execution_count": 5,
   "metadata": {},
   "outputs": [
    {
     "data": {
      "text/plain": [
       "['./model/xgb_model.pkl']"
      ]
     },
     "execution_count": 5,
     "metadata": {},
     "output_type": "execute_result"
    }
   ],
   "source": [
    "##保存xgb的model\n",
    "joblib.dump(model, './model/xgb_model.pkl')"
   ]
  },
  {
   "cell_type": "code",
   "execution_count": 6,
   "metadata": {},
   "outputs": [
    {
     "name": "stdout",
     "output_type": "stream",
     "text": [
      "Begin Time : 2020-02-01 21:19:13\n",
      "Transform xgb leaves shape: (859999, 10)\n",
      "Transform xgb x_train_lr shape: (559999, 80)\n",
      "Transform xgb x_test_lr shape: (300000, 80)\n",
      "End Time : 2020-02-01 21:19:15\n"
     ]
    }
   ],
   "source": [
    "#我们来拿到xgb的叶子节点的特征\n",
    "##进行xgboost拟合\n",
    "begin_time = time.time()\n",
    "print(f'Begin Time : {time.strftime(\"%Y-%m-%d %H:%M:%S\", time.localtime(begin_time))}')\n",
    "\n",
    "##apply函数返回的是叶子索引\n",
    "x_train_leaves = model.apply(x_train).astype(np.int32)\n",
    "x_test_leaves = model.apply(x_test).astype(np.int32)\n",
    "\n",
    "#使用nunpy的concatenate来拼接数组，并生成全局的onehot，单一使用train的可能会漏掉编码，test验证的时候出问题\n",
    "x_leaves = np.concatenate((x_train_leaves,x_test_leaves), axis=0)\n",
    "\n",
    "print(f'Transform xgb leaves shape: {x_leaves.shape}')\n",
    "\n",
    "xgb_onehotcoder = OneHotEncoder()\n",
    "xgb_onehotcoder.fit(x_leaves)\n",
    "\n",
    "x_train_lr = xgb_onehotcoder.transform(x_train_leaves).toarray()\n",
    "x_test_lr = xgb_onehotcoder.transform(x_test_leaves).toarray()\n",
    "print(f'Transform xgb x_train_lr shape: {x_train_lr.shape}')\n",
    "print(f'Transform xgb x_test_lr shape: {x_test_lr.shape}')\n",
    "\n",
    "end_time = time.time()\n",
    "print(f'End Time : {time.strftime(\"%Y-%m-%d %H:%M:%S\", time.localtime(end_time))}')"
   ]
  },
  {
   "cell_type": "code",
   "execution_count": 7,
   "metadata": {},
   "outputs": [],
   "source": [
    "# ##机器资源较小，进行部分变量内存回收\n",
    "# del df_train,df_vali,df_test,model,x_vali,x_train_leaves,x_test_leaves,x_leaves,xgb_onehotcoder\n",
    "# gc.collect()"
   ]
  },
  {
   "cell_type": "code",
   "execution_count": 8,
   "metadata": {},
   "outputs": [],
   "source": [
    "# np_train_lr = np.hstack((np.array(np.mat(y_train).transpose()),x_train_lr))\n",
    "# np.savetxt(\"./out_put/encode_data_train_lr.csv\", np_train_lr, delimiter=',')"
   ]
  },
  {
   "cell_type": "code",
   "execution_count": 9,
   "metadata": {},
   "outputs": [],
   "source": [
    "# del np_train_lr\n",
    "# gc.collect()"
   ]
  },
  {
   "cell_type": "code",
   "execution_count": 10,
   "metadata": {},
   "outputs": [],
   "source": [
    "# np_test_lr = np.hstack((np.array(np.mat(y_test).transpose()),x_test_lr))\n",
    "# np.savetxt(\"./out_put/encode_data_test_lr.csv\", np_test_lr, delimiter=',')"
   ]
  },
  {
   "cell_type": "code",
   "execution_count": 11,
   "metadata": {},
   "outputs": [],
   "source": [
    "# del np_test_lr\n",
    "# gc.collect()"
   ]
  },
  {
   "cell_type": "code",
   "execution_count": 12,
   "metadata": {},
   "outputs": [
    {
     "name": "stdout",
     "output_type": "stream",
     "text": [
      "Transform xgb x_train_lr2 shape: (559999, 101)\n"
     ]
    }
   ],
   "source": [
    "##进行one特征与原始特征的拼接\n",
    "x_train_lr2 = np.hstack((x_train_lr, x_train.values))\n",
    "print(f'Transform xgb x_train_lr2 shape: {x_train_lr2.shape}')\n",
    "\n",
    "# np_train_lr2 = np.hstack((np.array(np.mat(y_train).transpose()),x_train_lr2))\n",
    "# np.savetxt(\"./out_put/encode_data_train_lr2.csv\", np_train_lr2, delimiter=',')"
   ]
  },
  {
   "cell_type": "code",
   "execution_count": 13,
   "metadata": {},
   "outputs": [],
   "source": [
    "# del x_train,x_train_lr,x_train_lr2,np_train_lr2\n",
    "# gc.collect()"
   ]
  },
  {
   "cell_type": "code",
   "execution_count": 14,
   "metadata": {},
   "outputs": [
    {
     "name": "stdout",
     "output_type": "stream",
     "text": [
      "Transform xgb x_test_lr2 shape: (300000, 101)\n"
     ]
    }
   ],
   "source": [
    "x_test_lr2 = np.hstack((x_test_lr, x_test.values))\n",
    "print(f'Transform xgb x_test_lr2 shape: {x_test_lr2.shape}')\n",
    "\n",
    "# np_test_lr2 = np.hstack((np.array(np.mat(y_test).transpose()),x_test_lr2))\n",
    "# np.savetxt(\"./out_put/encode_data_test_lr2.csv\", np_test_lr2, delimiter=',')"
   ]
  },
  {
   "cell_type": "code",
   "execution_count": 15,
   "metadata": {},
   "outputs": [
    {
     "data": {
      "text/plain": [
       "84"
      ]
     },
     "execution_count": 15,
     "metadata": {},
     "output_type": "execute_result"
    }
   ],
   "source": [
    "##回收部分资源，资源不够了\n",
    "del df_train,df_vali,df_test,x_vali,x_train_leaves,x_test_leaves,x_leaves,xgb_onehotcoder\n",
    "gc.collect()"
   ]
  },
  {
   "cell_type": "code",
   "execution_count": 16,
   "metadata": {},
   "outputs": [
    {
     "name": "stdout",
     "output_type": "stream",
     "text": [
      "Begin Time : 2020-02-01 21:19:55\n",
      "End Time : 2020-02-01 21:20:19\n"
     ]
    }
   ],
   "source": [
    "###灌入到LR中\n",
    "begin_time = time.time()\n",
    "print(f'Begin Time : {time.strftime(\"%Y-%m-%d %H:%M:%S\", time.localtime(begin_time))}')\n",
    "\n",
    "lr_model = LogisticRegression()\n",
    "lr_model.fit(x_train_lr, y_train)\n",
    "\n",
    "lr_model2 = LogisticRegression()\n",
    "lr_model2.fit(x_train_lr2, y_train)\n",
    "\n",
    "joblib.dump(lr_model, './model/lr_model.pkl')\n",
    "joblib.dump(lr_model2, './model/lr_model2.pkl')\n",
    "\n",
    "end_time = time.time()\n",
    "print(f'End Time : {time.strftime(\"%Y-%m-%d %H:%M:%S\", time.localtime(end_time))}')"
   ]
  },
  {
   "cell_type": "code",
   "execution_count": 23,
   "metadata": {},
   "outputs": [],
   "source": [
    "##效果输出函数\n",
    "def func_print_score(x_data,y_data,data_type,model_x):\n",
    "    y_pred = model_x.predict(x_data)\n",
    "    \n",
    "    print(f'==============({data_type})===================')\n",
    "    confusion = metrics.confusion_matrix(y_data, y_pred)\n",
    "    print(confusion)\n",
    "    \n",
    "    print('------------------------')\n",
    "    auc = metrics.roc_auc_score(y_data,y_pred)\n",
    "    print(f'AUC: {auc}')\n",
    "    \n",
    "    print('------------------------')\n",
    "    accuracy = metrics.accuracy_score(y_data,y_pred)\n",
    "    print(f'Accuracy: {accuracy}')\n",
    "    \n",
    "    print('------------------------')\n",
    "    aupr = metrics.average_precision_score(y_data, y_pred)\n",
    "    print(f'AUPR: {aupr}')\n",
    "    \n",
    "    print('------------------------')\n",
    "    report = metrics.classification_report(y_data, y_pred)\n",
    "    print(report) \n",
    "    \n",
    "    print('=============================================')"
   ]
  },
  {
   "cell_type": "code",
   "execution_count": 24,
   "metadata": {},
   "outputs": [
    {
     "name": "stdout",
     "output_type": "stream",
     "text": [
      "==============(testdata-xgb)===================\n",
      "[[248629   3305]\n",
      " [ 44416   3650]]\n",
      "------------------------\n",
      "AUC: 0.5314093688885991\n",
      "------------------------\n",
      "Accuracy: 0.84093\n",
      "------------------------\n",
      "AUPR: 0.18790537837217178\n",
      "------------------------\n",
      "             precision    recall  f1-score   support\n",
      "\n",
      "          0       0.85      0.99      0.91    251934\n",
      "          1       0.52      0.08      0.13     48066\n",
      "\n",
      "avg / total       0.80      0.84      0.79    300000\n",
      "\n",
      "=============================================\n",
      "==============(testdata-xgb-lr)===================\n",
      "[[247447   4487]\n",
      " [ 43073   4993]]\n",
      "------------------------\n",
      "AUC: 0.5430338904724129\n",
      "------------------------\n",
      "Accuracy: 0.8414666666666667\n",
      "------------------------\n",
      "AUPR: 0.19828793875544898\n",
      "------------------------\n",
      "             precision    recall  f1-score   support\n",
      "\n",
      "          0       0.85      0.98      0.91    251934\n",
      "          1       0.53      0.10      0.17     48066\n",
      "\n",
      "avg / total       0.80      0.84      0.79    300000\n",
      "\n",
      "=============================================\n",
      "==============(testdata-xgb-lr2)===================\n",
      "[[251376    558]\n",
      " [ 47867    199]]\n",
      "------------------------\n",
      "AUC: 0.5009626374208841\n",
      "------------------------\n",
      "Accuracy: 0.8385833333333333\n",
      "------------------------\n",
      "AUPR: 0.16064502596303487\n",
      "------------------------\n",
      "             precision    recall  f1-score   support\n",
      "\n",
      "          0       0.84      1.00      0.91    251934\n",
      "          1       0.26      0.00      0.01     48066\n",
      "\n",
      "avg / total       0.75      0.84      0.77    300000\n",
      "\n",
      "=============================================\n"
     ]
    }
   ],
   "source": [
    "func_print_score(x_test,y_test,'testdata-xgb', model)\n",
    "func_print_score(x_test_lr,y_test,'testdata-xgb-lr', lr_model)\n",
    "func_print_score(x_test_lr2,y_test,'testdata-xgb-lr2', lr_model2)"
   ]
  },
  {
   "cell_type": "code",
   "execution_count": 25,
   "metadata": {},
   "outputs": [
    {
     "data": {
      "text/plain": [
       "7392"
      ]
     },
     "execution_count": 25,
     "metadata": {},
     "output_type": "execute_result"
    }
   ],
   "source": [
    "del x_train,y_train,x_train_lr,x_train_lr2\n",
    "gc.collect()"
   ]
  },
  {
   "cell_type": "code",
   "execution_count": 26,
   "metadata": {},
   "outputs": [],
   "source": [
    "##测试数据的PR曲线\n",
    "probas_xgb = model.predict_proba(x_test)\n",
    "probas_lr = lr_model.predict_proba(x_test_lr)\n",
    "probas_lr2 = lr_model2.predict_proba(x_test_lr2)"
   ]
  },
  {
   "cell_type": "code",
   "execution_count": 27,
   "metadata": {},
   "outputs": [],
   "source": [
    "##precision_recall_curve函数\n",
    "precision_xgb,recall_xgb, thresholds_xgb = metrics.precision_recall_curve(y_test, probas_xgb[:,1])\n",
    "precision_lr,recall_lr, thresholds_lr = metrics.precision_recall_curve(y_test, probas_lr[:,1])\n",
    "precision_lr2,recall_lr2, thresholds_lr2 = metrics.precision_recall_curve(y_test, probas_lr2[:,1])"
   ]
  },
  {
   "cell_type": "code",
   "execution_count": 29,
   "metadata": {},
   "outputs": [
    {
     "data": {
      "text/plain": [
       "Text(0.5,1,'PR Curve')"
      ]
     },
     "execution_count": 29,
     "metadata": {},
     "output_type": "execute_result"
    },
    {
     "data": {
      "image/png": "[encoded data removed]",
      "text/plain": [
       "<Figure size 576x432 with 1 Axes>"
      ]
     },
     "metadata": {},
     "output_type": "display_data"
    }
   ],
   "source": [
    "plt.figure(figsize=(8,6))\n",
    "\n",
    "plt.plot(recall_xgb, precision_xgb, label = 'xgb', alpha = 0.8, color = 'red')\n",
    "plt.plot(recall_lr, precision_lr, label = 'xgg-lr', alpha = 0.8, color = 'blue')\n",
    "plt.plot(recall_lr2, precision_lr2, label = 'xgb-lr2', alpha = 0.8, color = 'green')\n",
    "\n",
    "plt.plot([0,1],[0,1],'k--')\n",
    "\n",
    "#图例打印\n",
    "plt.legend(bbox_to_anchor=(1.05, 0), loc = 3, borderaxespad = 1)\n",
    "\n",
    "plt.xlim([-0.05, 1.05])\n",
    "plt.ylim([-0.05, 1.05])\n",
    "\n",
    "plt.xlabel('Recall Rate')\n",
    "plt.ylabel('Precision Rate')\n",
    "plt.title('PR Curve')"
   ]
  },
  {
   "cell_type": "code",
   "execution_count": null,
   "metadata": {},
   "outputs": [],
   "source": []
  }
 ],
 "metadata": {
  "kernelspec": {
   "display_name": "Python 3",
   "language": "python",
   "name": "python3"
  },
  "language_info": {
   "codemirror_mode": {
    "name": "ipython",
    "version": 3
   },
   "file_extension": ".py",
   "mimetype": "text/x-python",
   "name": "python",
   "nbconvert_exporter": "python",
   "pygments_lexer": "ipython3",
   "version": "3.6.5"
  }
 },
 "nbformat": 4,
 "nbformat_minor": 2
}
